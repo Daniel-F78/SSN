{
  "cells": [
    {
      "cell_type": "markdown",
      "metadata": {
        "id": "view-in-github",
        "colab_type": "text"
      },
      "source": [
        "<a href=\"https://colab.research.google.com/github/Daniel-F78/SSN/blob/main/Problema_de_Implementaci%C3%B3n_1.ipynb\" target=\"_parent\"><img src=\"https://colab.research.google.com/assets/colab-badge.svg\" alt=\"Open In Colab\"/></a>"
      ]
    },
    {
      "cell_type": "markdown",
      "source": [
        "**Problemas a resolver**"
      ],
      "metadata": {
        "id": "KOEm58kla8yj"
      }
    },
    {
      "cell_type": "markdown",
      "source": [
        "Problema 1: Demonstración de cálculo usando lenguaje de programación."
      ],
      "metadata": {
        "id": "krq_gA9Gb_Ea"
      }
    },
    {
      "cell_type": "markdown",
      "source": [
        "Debo hallar los momentos y ejes principales de inercia de  un sólido rígido sabiendo su tensor en un estado previo a la diagonalización, ejercicio proveniente de la asignatura de Ampliación de la Física Clásica."
      ],
      "metadata": {
        "id": "5pvK_EiGcDlR"
      }
    },
    {
      "cell_type": "code",
      "source": [
        "import numpy as np\n",
        "import matplotlib.pyplot as plt"
      ],
      "metadata": {
        "id": "O-A-yHikb3mp"
      },
      "execution_count": null,
      "outputs": []
    },
    {
      "cell_type": "code",
      "source": [
        "I=np.array([[5,-1,0],[-1,5,0],[0,0,3]])\n",
        "print(\"Tensor\")\n",
        "print(I)"
      ],
      "metadata": {
        "id": "DR5ty1BUdwoB",
        "outputId": "51b1de22-b834-466a-b113-8df8f60534a9",
        "colab": {
          "base_uri": "https://localhost:8080/"
        }
      },
      "execution_count": null,
      "outputs": [
        {
          "output_type": "stream",
          "name": "stdout",
          "text": [
            "Tensor\n",
            "[[ 5 -1  0]\n",
            " [-1  5  0]\n",
            " [ 0  0  3]]\n"
          ]
        }
      ]
    },
    {
      "cell_type": "markdown",
      "source": [
        "Matemáticamente hablando, los momentos de inercia de nuestro sólido rígido serán los eigenvalues (vaps) del Tensor (que vamos a tratar como una matriz aunque no sea del todo cierto) y los ejes principales de inercia serán los eigenvectors (veps)."
      ],
      "metadata": {
        "id": "PTxJEm9ofVYi"
      }
    },
    {
      "cell_type": "code",
      "source": [
        "Vaps,Veps=np.linalg.eig(I)\n",
        "print(\"Vaps\")\n",
        "print(Vaps)\n",
        "print(\"Veps\")\n",
        "print(Veps)"
      ],
      "metadata": {
        "id": "hBTKYQJTfpji",
        "outputId": "21b9c1de-ad7d-41ce-b634-173540fa98b7",
        "colab": {
          "base_uri": "https://localhost:8080/"
        }
      },
      "execution_count": null,
      "outputs": [
        {
          "output_type": "stream",
          "name": "stdout",
          "text": [
            "Vaps\n",
            "[6. 4. 3.]\n",
            "Veps\n",
            "[[ 0.70710678  0.70710678  0.        ]\n",
            " [-0.70710678  0.70710678  0.        ]\n",
            " [ 0.          0.          1.        ]]\n"
          ]
        }
      ]
    },
    {
      "cell_type": "markdown",
      "source": [
        "Así se muestra que los momentos de Inercia que tiene nuestro sólido rígido son:"
      ],
      "metadata": {
        "id": "uljUt6Smh9Bi"
      }
    },
    {
      "cell_type": "code",
      "source": [
        "I1=Vaps[0]\n",
        "I2=Vaps[1]\n",
        "I3=Vaps[2]\n",
        "print(\"I1:\",I1)\n",
        "print(\"I2:\",I2)\n",
        "print(\"I3:\",I3)"
      ],
      "metadata": {
        "id": "2EGObe6KirlY",
        "outputId": "7ebe8ee6-3a3c-4925-e5ad-f446ccd517a8",
        "colab": {
          "base_uri": "https://localhost:8080/"
        }
      },
      "execution_count": null,
      "outputs": [
        {
          "output_type": "stream",
          "name": "stdout",
          "text": [
            "I1: 6.0\n",
            "I2: 4.0\n",
            "I3: 3.0\n"
          ]
        }
      ]
    },
    {
      "cell_type": "markdown",
      "source": [
        "Y que los ejes principales de inercia son:"
      ],
      "metadata": {
        "id": "5IRa4YaAks1B"
      }
    },
    {
      "cell_type": "code",
      "source": [
        "v1=Veps[:,0]\n",
        "v2=Veps[:,1]\n",
        "v3=Veps[:,2]\n",
        "print(\"v1:\",v1)\n",
        "print(\"v2:\",v2)\n",
        "print(\"v3:\",v3)"
      ],
      "metadata": {
        "id": "YSLzft7skmoL",
        "outputId": "47ef7bf6-e61a-42a5-d5aa-8fb69a1178dc",
        "colab": {
          "base_uri": "https://localhost:8080/"
        }
      },
      "execution_count": null,
      "outputs": [
        {
          "output_type": "stream",
          "name": "stdout",
          "text": [
            "v1: [ 0.70710678 -0.70710678  0.        ]\n",
            "v2: [0.70710678 0.70710678 0.        ]\n",
            "v3: [0. 0. 1.]\n"
          ]
        }
      ]
    }
  ],
  "metadata": {
    "colab": {
      "toc_visible": true,
      "provenance": [],
      "include_colab_link": true
    },
    "kernelspec": {
      "display_name": "Python 3",
      "name": "python3"
    }
  },
  "nbformat": 4,
  "nbformat_minor": 0
}