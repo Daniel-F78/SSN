{
  "cells": [
    {
      "cell_type": "markdown",
      "metadata": {
        "id": "view-in-github",
        "colab_type": "text"
      },
      "source": [
        "<a href=\"https://colab.research.google.com/github/Daniel-F78/SSN/blob/main/Problemas_de_Implementaci%C3%B3n.ipynb\" target=\"_parent\"><img src=\"https://colab.research.google.com/assets/colab-badge.svg\" alt=\"Open In Colab\"/></a>"
      ]
    },
    {
      "cell_type": "markdown",
      "source": [
        "**Problemas a resolver**"
      ],
      "metadata": {
        "id": "KOEm58kla8yj"
      }
    },
    {
      "cell_type": "markdown",
      "source": [
        "**Problema 1**: Demonstración de cálculo usando lenguaje de programación."
      ],
      "metadata": {
        "id": "krq_gA9Gb_Ea"
      }
    },
    {
      "cell_type": "markdown",
      "source": [
        "Debo hallar los momentos y ejes principales de inercia de  un sólido rígido sabiendo su tensor en un estado previo a la diagonalización, ejercicio proveniente de la asignatura de Ampliación de la Física Clásica."
      ],
      "metadata": {
        "id": "5pvK_EiGcDlR"
      }
    },
    {
      "cell_type": "code",
      "source": [
        "import numpy as np\n",
        "import matplotlib.pyplot as plt"
      ],
      "metadata": {
        "id": "O-A-yHikb3mp"
      },
      "execution_count": 3,
      "outputs": []
    },
    {
      "cell_type": "code",
      "source": [
        "I=np.array([[5,-1,0],[-1,5,0],[0,0,3]])\n",
        "print(\"Tensor\")\n",
        "print(I)"
      ],
      "metadata": {
        "id": "DR5ty1BUdwoB",
        "outputId": "fcf58f34-4af2-4a1b-9415-4f468cac0da7",
        "colab": {
          "base_uri": "https://localhost:8080/"
        }
      },
      "execution_count": 4,
      "outputs": [
        {
          "output_type": "stream",
          "name": "stdout",
          "text": [
            "Tensor\n",
            "[[ 5 -1  0]\n",
            " [-1  5  0]\n",
            " [ 0  0  3]]\n"
          ]
        }
      ]
    },
    {
      "cell_type": "markdown",
      "source": [
        "Matemáticamente hablando, los momentos de inercia de nuestro sólido rígido serán los eigenvalues (vaps) del Tensor (que vamos a tratar como una matriz aunque no sea del todo cierto) y los ejes principales de inercia serán los eigenvectors (veps)."
      ],
      "metadata": {
        "id": "PTxJEm9ofVYi"
      }
    },
    {
      "cell_type": "code",
      "source": [
        "Vaps,Veps=np.linalg.eig(I)\n",
        "print(\"Vaps\")\n",
        "print(Vaps)\n",
        "print(\"Veps\")\n",
        "print(Veps)"
      ],
      "metadata": {
        "id": "hBTKYQJTfpji",
        "outputId": "ae581ece-2886-4851-a4cd-ea5f4d2bf828",
        "colab": {
          "base_uri": "https://localhost:8080/"
        }
      },
      "execution_count": 5,
      "outputs": [
        {
          "output_type": "stream",
          "name": "stdout",
          "text": [
            "Vaps\n",
            "[6. 4. 3.]\n",
            "Veps\n",
            "[[ 0.70710678  0.70710678  0.        ]\n",
            " [-0.70710678  0.70710678  0.        ]\n",
            " [ 0.          0.          1.        ]]\n"
          ]
        }
      ]
    },
    {
      "cell_type": "markdown",
      "source": [
        "Así se muestra que los momentos de Inercia que tiene nuestro sólido rígido son:"
      ],
      "metadata": {
        "id": "uljUt6Smh9Bi"
      }
    },
    {
      "cell_type": "code",
      "source": [
        "I1=Vaps[0]\n",
        "I2=Vaps[1]\n",
        "I3=Vaps[2]\n",
        "print(\"I1=\",I1)\n",
        "print(\"I2=\",I2)\n",
        "print(\"I3=\",I3)"
      ],
      "metadata": {
        "id": "2EGObe6KirlY",
        "outputId": "c5e66fa5-6b19-4dd6-cd68-9c4338a08e2d",
        "colab": {
          "base_uri": "https://localhost:8080/"
        }
      },
      "execution_count": 6,
      "outputs": [
        {
          "output_type": "stream",
          "name": "stdout",
          "text": [
            "I1= 6.0\n",
            "I2= 4.0\n",
            "I3= 3.0\n"
          ]
        }
      ]
    },
    {
      "cell_type": "markdown",
      "source": [
        "Y que los ejes principales de inercia son:"
      ],
      "metadata": {
        "id": "5IRa4YaAks1B"
      }
    },
    {
      "cell_type": "code",
      "source": [
        "v1=Veps[:,0]\n",
        "v2=Veps[:,1]\n",
        "v3=Veps[:,2]\n",
        "print(\"v1=\",v1)\n",
        "print(\"v2=\",v2)\n",
        "print(\"v3=\",v3)"
      ],
      "metadata": {
        "id": "YSLzft7skmoL",
        "outputId": "692cacc2-eb34-4db6-fe43-d309013aaf51",
        "colab": {
          "base_uri": "https://localhost:8080/"
        }
      },
      "execution_count": 7,
      "outputs": [
        {
          "output_type": "stream",
          "name": "stdout",
          "text": [
            "v1= [ 0.70710678 -0.70710678  0.        ]\n",
            "v2= [0.70710678 0.70710678 0.        ]\n",
            "v3= [0. 0. 1.]\n"
          ]
        }
      ]
    },
    {
      "cell_type": "markdown",
      "source": [
        "**Problema 2**: Representar las diferentes densidades de estado de los sólidos inorgánicos semiconductores.\n",
        "Me parece un ejercicio interesante porque puedo aprovechar y superponer las diferentes gráficas para mejor comparación."
      ],
      "metadata": {
        "id": "8OIrMwIAu-di"
      }
    },
    {
      "cell_type": "code",
      "source": [
        "m=9.01*10**-31\n",
        "h=6.626*10**-34\n",
        "ht=h/(2*np.pi)\n",
        "d=ht/1.602*10**-19\n",
        "E3=np.arange(0.1,5,0.1)\n",
        "E2=np.arange(0.1,5,0.1)\n",
        "E1=np.arange(0.1,5,0.1)\n",
        "import sympy as sy\n",
        "E0=np.linspace(0.1,5,1000)\n",
        "Ec=0.1"
      ],
      "metadata": {
        "id": "2J9MftTAp_QN"
      },
      "execution_count": 181,
      "outputs": []
    },
    {
      "cell_type": "markdown",
      "source": [
        "Con las constantes definidas voy a escribir las fórmulas de las densidades de estado que deducimos en las clases de la asignatura."
      ],
      "metadata": {
        "id": "_cI5TCPOq9hK"
      }
    },
    {
      "cell_type": "markdown",
      "source": [
        "3D:"
      ],
      "metadata": {
        "id": "oCnR-bQ1rIZE"
      }
    },
    {
      "cell_type": "markdown",
      "source": [
        "![Captura de pantalla 2025-02-16 131243.png](data:image/png;base64,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)"
      ],
      "metadata": {
        "id": "VXeINZVzrJ-t"
      }
    },
    {
      "cell_type": "code",
      "source": [
        "f3=1/(2*np.pi)*(2*m/(d**2))**(3/2)*(E3)**(1/2)\n",
        "M3=np.max(f3)\n",
        "g3D=f3/M3"
      ],
      "metadata": {
        "id": "8EaSWn_xrRCV"
      },
      "execution_count": 182,
      "outputs": []
    },
    {
      "cell_type": "markdown",
      "source": [
        "2D:"
      ],
      "metadata": {
        "id": "Y1Fquqi4sbgF"
      }
    },
    {
      "cell_type": "markdown",
      "source": [
        "![Captura de pantalla 2025-02-16 131906.png](data:image/png;base64,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)"
      ],
      "metadata": {
        "id": "IZMiIWuisup9"
      }
    },
    {
      "cell_type": "code",
      "source": [
        "f2=m/(np.pi*d**2)\n",
        "M2=np.max(f2)\n",
        "g2D=f2/M2"
      ],
      "metadata": {
        "id": "lT8GPeXdsw-c"
      },
      "execution_count": 183,
      "outputs": []
    },
    {
      "cell_type": "markdown",
      "source": [
        "1D:"
      ],
      "metadata": {
        "id": "wwGV8-mivROG"
      }
    },
    {
      "cell_type": "markdown",
      "source": [
        "![Captura de pantalla 2025-02-16 132110.png](data:image/png;base64,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)"
      ],
      "metadata": {
        "id": "p8o0_8kBtE2N"
      }
    },
    {
      "cell_type": "code",
      "source": [
        "f1=1/np.pi*(2*m/(d**2))**(1/2)*E1**(-1/2)\n",
        "M1=np.max(f1)\n",
        "g1D=f1/M1"
      ],
      "metadata": {
        "id": "WDIugzHPtMV8"
      },
      "execution_count": 184,
      "outputs": []
    },
    {
      "cell_type": "markdown",
      "source": [
        "0D:"
      ],
      "metadata": {
        "id": "fsP-0fg2vVcs"
      }
    },
    {
      "cell_type": "markdown",
      "source": [
        "![Captura de pantalla 2025-02-16 132714.png](data:image/png;base64,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)"
      ],
      "metadata": {
        "id": "ih47HkQvuxZ0"
      }
    },
    {
      "cell_type": "code",
      "source": [
        "def numerical_dirac_delta(E0,center,epsilon=0.0001):\n",
        "   return np.exp(-((E0-0.1)**2)/(2*epsilon**2))/(epsilon*np.sqrt(2*np.pi))\n",
        "f0 = numerical_dirac_delta(E0,Ec)\n",
        "M0=np.max(f0)\n",
        "g0D=f0/M0"
      ],
      "metadata": {
        "id": "JLkcnGBJ7pbg"
      },
      "execution_count": 185,
      "outputs": []
    },
    {
      "cell_type": "markdown",
      "source": [
        "Ahora vamos a representar las cuatro funciones"
      ],
      "metadata": {
        "id": "YEMqVyzPxmyl"
      }
    },
    {
      "cell_type": "code",
      "source": [
        "T=plt.plot(E3,g3D)\n",
        "D=plt.plot(E2, np.full_like(E2, g2D))\n",
        "U=plt.plot(E1, g1D)\n",
        "C=plt.plot(E0, g0D)\n",
        "plt.title('States Densities')\n",
        "plt.xlabel('Energy (eV)')\n",
        "plt.ylabel('Normalized Intensity')\n",
        "plt.legend(['3D','2D','1D','0D'])"
      ],
      "metadata": {
        "colab": {
          "base_uri": "https://localhost:8080/",
          "height": 489
        },
        "id": "vOEHTE3Qy62E",
        "outputId": "5ac54bc4-e8fa-467a-b959-96e3ddef00cf"
      },
      "execution_count": 187,
      "outputs": [
        {
          "output_type": "execute_result",
          "data": {
            "text/plain": [
              "<matplotlib.legend.Legend at 0x7af124909690>"
            ]
          },
          "metadata": {},
          "execution_count": 187
        },
        {
          "output_type": "display_data",
          "data": {
            "text/plain": [
              "<Figure size 640x480 with 1 Axes>"
            ],
            "image/png": "[encoded data removed]"
          },
          "metadata": {}
        }
      ]
    }
  ],
  "metadata": {
    "colab": {
      "toc_visible": true,
      "provenance": [],
      "include_colab_link": true
    },
    "kernelspec": {
      "display_name": "Python 3",
      "name": "python3"
    }
  },
  "nbformat": 4,
  "nbformat_minor": 0
}